{
 "cells": [
  {
   "cell_type": "code",
   "execution_count": 1,
   "id": "e4444194-9b1e-44e0-ba00-53497fb6377e",
   "metadata": {},
   "outputs": [],
   "source": [
    "#Q1.\n",
    "\n",
    "# PDF describes likelihood of continuous random variable values.\n",
    "# Represents probability density across a range.\n",
    "# Doesn't give specific point probabilities.\n",
    "# Total area under PDF curve is 1."
   ]
  },
  {
   "cell_type": "code",
   "execution_count": 2,
   "id": "9904cf46-7875-482e-aee2-90326b1a111d",
   "metadata": {},
   "outputs": [],
   "source": [
    "#Q2.\n",
    "\n",
    "#1. Uniform: Equal probabilities in a range (e.g. fair die).\n",
    "#2. Normal (Gaussian): Symmetric bell curve (e.g. heights)\n",
    "#3. Binomial: Binary outcomes (e.g. coin flips)\n",
    "#4. Poisson: Rare events (e.g. arrivals)\n",
    "#5. Exponential: Time b/w events (e.g. arrivals)\n",
    "#6. Geometric: Trials until first success (e.g. coin toss)\n",
    "#7. Bernoulli: Single trial (e.g. success/failure)"
   ]
  },
  {
   "cell_type": "code",
   "execution_count": 1,
   "id": "6571486b-efbd-4f11-8879-246c83071ec8",
   "metadata": {},
   "outputs": [],
   "source": [
    "#Q3.\n",
    "\n",
    "import math"
   ]
  },
  {
   "cell_type": "code",
   "execution_count": 2,
   "id": "19d74a71-0613-42de-a704-a884546f04ca",
   "metadata": {},
   "outputs": [],
   "source": [
    "def normal_pdf(x, mean, std_dev):\n",
    "    exponent = -((x-mean)**2)/ (2* (std_dev ** 2))\n",
    "    pdf = (1 / (std_dev * math.sqrt(2 * math.pi))) * math.exp(exponent)\n",
    "    return pdf"
   ]
  },
  {
   "cell_type": "code",
   "execution_count": 3,
   "id": "da16fd68-2383-426b-832d-9e25a6eece20",
   "metadata": {},
   "outputs": [
    {
     "name": "stdout",
     "output_type": "stream",
     "text": [
      "PDF at x = 1: 0.2420\n"
     ]
    }
   ],
   "source": [
    "#E.g.\n",
    "mean = 0\n",
    "std_dev = 1\n",
    "x = 1\n",
    "pdf_value = normal_pdf(x, mean, std_dev)\n",
    "print(f\"PDF at x = {x}: {pdf_value:.4f}\")"
   ]
  },
  {
   "cell_type": "code",
   "execution_count": 4,
   "id": "1c98500d-64f2-4724-812c-11a80d8c798f",
   "metadata": {},
   "outputs": [],
   "source": [
    "#Q4.\n",
    "\n",
    "# Properties of Binomial Distribution:\n",
    "\n",
    "#1. Discrete distribution\n",
    "#2. Binary outcomes (success/failure).\n",
    "#3. Fixed number of trials (n).\n",
    "#4. Constant probability of success (p).\n",
    "#5. Independence between trials.\n",
    "\n",
    "# Examples of Events:\n",
    "\n",
    "#1. Coin flips (heads/tails).\n",
    "#2. Quality Control (defective/non-defective items)."
   ]
  },
  {
   "cell_type": "code",
   "execution_count": 5,
   "id": "4f6ee8fb-8488-4fda-878b-b20f94e375cb",
   "metadata": {},
   "outputs": [],
   "source": [
    "#Q5.\n",
    "\n",
    "import numpy as np\n",
    "import matplotlib.pyplot as plt"
   ]
  },
  {
   "cell_type": "code",
   "execution_count": 6,
   "id": "72586879-d5af-45c1-b964-51c0c714ac18",
   "metadata": {},
   "outputs": [],
   "source": [
    "n = 1000\n",
    "p = 0.4"
   ]
  },
  {
   "cell_type": "code",
   "execution_count": 7,
   "id": "f34006bd-c0bc-4ea8-a37d-d13b4d2935b4",
   "metadata": {},
   "outputs": [],
   "source": [
    "sample = np.random.binomial(1,p,n)"
   ]
  },
  {
   "cell_type": "code",
   "execution_count": 10,
   "id": "b7c05020-7d96-485d-9bb3-a7880aa1e8cc",
   "metadata": {},
   "outputs": [
    {
     "data": {
      "image/png": "[encoded data removed]",
      "text/plain": [
       "<Figure size 640x480 with 1 Axes>"
      ]
     },
     "metadata": {},
     "output_type": "display_data"
    }
   ],
   "source": [
    "plt.hist(sample, bins=[-0.5, 0.5, 1.5], edgecolor='black', alpha=0.7)\n",
    "plt.xticks([0, 1])\n",
    "plt.xlabel('Outcome')\n",
    "plt.ylabel('Frequency')\n",
    "plt.title('Binomial Distribution (n=1000, p=0.4)')\n",
    "plt.show()"
   ]
  },
  {
   "cell_type": "code",
   "execution_count": 11,
   "id": "4a89ab2a-0c52-4224-9894-9ec50f8b6e09",
   "metadata": {},
   "outputs": [],
   "source": [
    "#Q6.\n",
    "\n",
    "def poisson_cdf(k, mean):\n",
    "    # k - it is the point at which to calculate the CDF.\n",
    "    cdf = 0.0\n",
    "    for i in range(k + 1):\n",
    "        cdf += (math.exp(-mean) * (mean ** i)) / math.factorial(i)\n",
    "    return cdf"
   ]
  },
  {
   "cell_type": "code",
   "execution_count": 12,
   "id": "7f85994e-9a02-44dd-83f3-daf4e2c41a3a",
   "metadata": {},
   "outputs": [
    {
     "name": "stdout",
     "output_type": "stream",
     "text": [
      "CDF at k = 2: 0.4232\n"
     ]
    }
   ],
   "source": [
    "mean = 3.0\n",
    "k = 2\n",
    "cdf_value = poisson_cdf(k, mean)\n",
    "print(f\"CDF at k = {k}: {cdf_value:.4f}\")"
   ]
  },
  {
   "cell_type": "code",
   "execution_count": 13,
   "id": "05a218fb-23f8-4fc3-93ec-723ae059725b",
   "metadata": {},
   "outputs": [],
   "source": [
    "#Q7.\n",
    "\n",
    "# Binomial Distribution:\n",
    "\n",
    "#1. Fixed number of trials (n).\n",
    "#2. Constant probability of success (p).\n",
    "#3. Binary outcomes (success/failure).\n",
    "#4. Discrete data.\n",
    "#5. Examples: Coin flips, quality control.\n",
    "\n",
    "#Poisson Distribution:\n",
    "\n",
    "#1. No fixed number of trials.\n",
    "#2. Single Parameter: average rate of occurrence (Lambda).\n",
    "#3. Rare events in continuous interval.\n",
    "#4. Discrete data.\n",
    "#5. Examples: Customer arrivals, phone call arrivals."
   ]
  },
  {
   "cell_type": "code",
   "execution_count": 16,
   "id": "49ef074b-aff5-4349-9980-1ea7504ad660",
   "metadata": {},
   "outputs": [
    {
     "name": "stdout",
     "output_type": "stream",
     "text": [
      "Sample Mean: 5.0260\n",
      "Sample Variance: 4.9933\n"
     ]
    }
   ],
   "source": [
    "# Q8.\n",
    "\n",
    "mean = 5\n",
    "sample_size = 1000\n",
    "\n",
    "sample = np.random.poisson(mean, sample_size)\n",
    "\n",
    "sample_mean = np.mean(sample)\n",
    "sample_variance = np.var(sample)\n",
    "\n",
    "print(f\"Sample Mean: {sample_mean:.4f}\")\n",
    "print(f\"Sample Variance: {sample_variance:.4f}\")"
   ]
  },
  {
   "cell_type": "code",
   "execution_count": 17,
   "id": "5868d801-6036-4873-88ca-cf82289cc125",
   "metadata": {},
   "outputs": [],
   "source": [
    "#Q9.\n",
    "\n",
    "# Mean and Variance for Binomial Distribution:\n",
    "\n",
    "# Mean = n * p\n",
    "# Variance = n * p * (1-p)\n",
    "\n",
    "# In the above equations, n is the number of trials and p is the probability if success\n",
    "\n",
    "# Mean and Variance for Poisson Distribution:\n",
    "\n",
    "# Mean = Lambda\n",
    "# Variance = Lambda\n",
    "\n",
    "# In summary, for the Binomial Distribution, the variance depends on both the number of trials and the probability of success, whereas for the Poisson distribution, the variance is solely determined by the mean rate (Lambda),  and it is equal to the mean itself."
   ]
  },
  {
   "cell_type": "code",
   "execution_count": 18,
   "id": "60dcbe43-ae7c-4d40-8fc2-ce7116271a7b",
   "metadata": {},
   "outputs": [],
   "source": [
    "#Q10.\n",
    "\n",
    "# In a normal distribution (symmetric and bell-shaped), the least frequent data appears in the tails, farthest away from the mean position. These tails are the regions on both ends of the distribution curve."
   ]
  },
  {
   "cell_type": "code",
   "execution_count": 19,
   "id": "cd4a7cd9-0da1-4e11-b0c9-15e88cf0d03b",
   "metadata": {},
   "outputs": [],
   "source": [
    "# End."
   ]
  },
  {
   "cell_type": "code",
   "execution_count": null,
   "id": "8299cc52-c4b6-417d-9023-0f1247ebfcf9",
   "metadata": {},
   "outputs": [],
   "source": []
  }
 ],
 "metadata": {
  "kernelspec": {
   "display_name": "Python 3 (ipykernel)",
   "language": "python",
   "name": "python3"
  },
  "language_info": {
   "codemirror_mode": {
    "name": "ipython",
    "version": 3
   },
   "file_extension": ".py",
   "mimetype": "text/x-python",
   "name": "python",
   "nbconvert_exporter": "python",
   "pygments_lexer": "ipython3",
   "version": "3.10.8"
  }
 },
 "nbformat": 4,
 "nbformat_minor": 5
}
